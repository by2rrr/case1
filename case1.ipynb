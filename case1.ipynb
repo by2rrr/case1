{
 "cells": [
  {
   "cell_type": "code",
   "execution_count": 20,
   "id": "f0c64cfb",
   "metadata": {},
   "outputs": [],
   "source": [
    "import random"
   ]
  },
  {
   "cell_type": "code",
   "execution_count": 21,
   "id": "e7ec3190",
   "metadata": {},
   "outputs": [
    {
     "data": {
      "text/plain": [
       "[75, 23, -43, -19, 98, 85, 34, 67, 95, 77, -34, 8, -59, -45, 97]"
      ]
     },
     "execution_count": 21,
     "metadata": {},
     "output_type": "execute_result"
    }
   ],
   "source": [
    "L = [random.randint(-100,+100) for t in range(15)]\n",
    "L"
   ]
  },
  {
   "cell_type": "code",
   "execution_count": 22,
   "id": "48c895ef",
   "metadata": {},
   "outputs": [
    {
     "data": {
      "text/plain": [
       "98"
      ]
     },
     "execution_count": 22,
     "metadata": {},
     "output_type": "execute_result"
    }
   ],
   "source": [
    "max(L)"
   ]
  },
  {
   "cell_type": "code",
   "execution_count": 23,
   "id": "a4224ef1",
   "metadata": {},
   "outputs": [
    {
     "data": {
      "text/plain": [
       "-59"
      ]
     },
     "execution_count": 23,
     "metadata": {},
     "output_type": "execute_result"
    }
   ],
   "source": [
    "min(L)"
   ]
  },
  {
   "cell_type": "code",
   "execution_count": 24,
   "id": "35db7e46",
   "metadata": {},
   "outputs": [
    {
     "name": "stdout",
     "output_type": "stream",
     "text": [
      "Максимум равен 98\n",
      "Минимум равен -59\n",
      "Сумма отрицательный элементов между максимальным и мнимальным равен -34\n"
     ]
    }
   ],
   "source": [
    "maxim = 0\n",
    "maxim_index = 0\n",
    "minim = L[0]\n",
    "minim_index = 0\n",
    "s = 0\n",
    "for i in range(len(L)):\n",
    "    if L[i]>maxim:\n",
    "        maxim = L[i]\n",
    "        maxim_index = i\n",
    "    if L[i]<minim:\n",
    "        minim = L[i]\n",
    "        minim_index = i\n",
    "if minim_index<maxim_index:\n",
    "    for i in range(minim_index,maxim_index):\n",
    "        if L[i]<0:\n",
    "            s = s+L[i]\n",
    "else:\n",
    "    for i in range(maxim_index+1,minim_index):\n",
    "        if L[i]<0:\n",
    "            s= s+L[i]\n",
    "print(\"Максимум равен\",maxim)\n",
    "print(\"Минимум равен\",minim)\n",
    "print(\"Сумма отрицательный элементов между максимальным и мнимальным равен\", s)"
   ]
  },
  {
   "cell_type": "code",
   "execution_count": null,
   "id": "594ca5d3",
   "metadata": {},
   "outputs": [],
   "source": []
  }
 ],
 "metadata": {
  "kernelspec": {
   "display_name": "Python 3 (ipykernel)",
   "language": "python",
   "name": "python3"
  },
  "language_info": {
   "codemirror_mode": {
    "name": "ipython",
    "version": 3
   },
   "file_extension": ".py",
   "mimetype": "text/x-python",
   "name": "python",
   "nbconvert_exporter": "python",
   "pygments_lexer": "ipython3",
   "version": "3.11.5"
  }
 },
 "nbformat": 4,
 "nbformat_minor": 5
}
