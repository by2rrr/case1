{
 "cells": [
  {
   "cell_type": "code",
   "execution_count": 1,
   "id": "f0c64cfb",
   "metadata": {},
   "outputs": [],
   "source": [
    "import random"
   ]
  },
  {
   "cell_type": "code",
   "execution_count": 2,
   "id": "5cff72af",
   "metadata": {},
   "outputs": [
    {
     "name": "stdout",
     "output_type": "stream",
     "text": [
      "15\n"
     ]
    }
   ],
   "source": [
    "N = int(input())"
   ]
  },
  {
   "cell_type": "code",
   "execution_count": 3,
   "id": "e7ec3190",
   "metadata": {
    "scrolled": false
   },
   "outputs": [
    {
     "data": {
      "text/plain": [
       "[-36, 26, 44, 29, 68, -43, 2, -1, -98, -91, -31, -31, 33, 71, -96]"
      ]
     },
     "execution_count": 3,
     "metadata": {},
     "output_type": "execute_result"
    }
   ],
   "source": [
    "A = [random.randint(-100,+100) for t in range(N)]\n",
    "A"
   ]
  },
  {
   "cell_type": "code",
   "execution_count": 4,
   "id": "48c895ef",
   "metadata": {},
   "outputs": [
    {
     "data": {
      "text/plain": [
       "71"
      ]
     },
     "execution_count": 4,
     "metadata": {},
     "output_type": "execute_result"
    }
   ],
   "source": [
    "max(A)"
   ]
  },
  {
   "cell_type": "code",
   "execution_count": 5,
   "id": "a4224ef1",
   "metadata": {},
   "outputs": [
    {
     "data": {
      "text/plain": [
       "-98"
      ]
     },
     "execution_count": 5,
     "metadata": {},
     "output_type": "execute_result"
    }
   ],
   "source": [
    "min(A)"
   ]
  },
  {
   "cell_type": "code",
   "execution_count": 7,
   "id": "35db7e46",
   "metadata": {
    "scrolled": true
   },
   "outputs": [
    {
     "name": "stdout",
     "output_type": "stream",
     "text": [
      "Максимум равен 71\n",
      "Минимум равен -98\n",
      "Сумма отрицательный элементов между максимальным и мнимальным равен -153\n"
     ]
    }
   ],
   "source": [
    "maxim = A[0]\n",
    "maxim_index = 0\n",
    "minim = A[0]\n",
    "minim_index = 0\n",
    "s = 0\n",
    "for i in range(len(A)):\n",
    "    if A[i]>maxim:\n",
    "        maxim = A[i]\n",
    "        maxim_index = i\n",
    "    if A[i]<minim:\n",
    "        minim = A[i]\n",
    "        minim_index = i\n",
    "        \n",
    "if minim_index<maxim_index:\n",
    "    for i in range(minim_index+1,maxim_index):\n",
    "        if A[i]<0:\n",
    "            s = s+A[i]\n",
    "else:\n",
    "    for i in range(maxim_index+1,minim_index):\n",
    "        if A[i]<0:\n",
    "            s= s+A[i]\n",
    "print(\"Максимум равен\",maxim)\n",
    "print(\"Минимум равен\",minim)\n",
    "print(\"Сумма отрицательный элементов между максимальным и мнимальным равен\", s)"
   ]
  },
  {
   "cell_type": "code",
   "execution_count": null,
   "id": "8e330a5f",
   "metadata": {},
   "outputs": [],
   "source": []
  },
  {
   "cell_type": "code",
   "execution_count": null,
   "id": "65406a93",
   "metadata": {},
   "outputs": [],
   "source": []
  }
 ],
 "metadata": {
  "kernelspec": {
   "display_name": "Python 3 (ipykernel)",
   "language": "python",
   "name": "python3"
  },
  "language_info": {
   "codemirror_mode": {
    "name": "ipython",
    "version": 3
   },
   "file_extension": ".py",
   "mimetype": "text/x-python",
   "name": "python",
   "nbconvert_exporter": "python",
   "pygments_lexer": "ipython3",
   "version": "3.11.5"
  }
 },
 "nbformat": 4,
 "nbformat_minor": 5
}
