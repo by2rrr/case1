{
 "cells": [
  {
   "cell_type": "code",
   "execution_count": 7,
   "id": "f0c64cfb",
   "metadata": {},
   "outputs": [],
   "source": [
    "import random"
   ]
  },
  {
   "cell_type": "code",
   "execution_count": 8,
   "id": "82b12909",
   "metadata": {},
   "outputs": [
    {
     "name": "stdout",
     "output_type": "stream",
     "text": [
      "15\n"
     ]
    }
   ],
   "source": [
    "N = int(input())"
   ]
  },
  {
   "cell_type": "code",
   "execution_count": 10,
   "id": "e7ec3190",
   "metadata": {
    "scrolled": false
   },
   "outputs": [
    {
     "data": {
      "text/plain": [
       "[-91, 35, -60, 9, -82, -45, 51, 53, 16, 24, -66, -9, -43, 75, -13]"
      ]
     },
     "execution_count": 10,
     "metadata": {},
     "output_type": "execute_result"
    }
   ],
   "source": [
    "L = [random.randint(-100,+100) for t in range(N)]\n",
    "L"
   ]
  },
  {
   "cell_type": "code",
   "execution_count": 11,
   "id": "48c895ef",
   "metadata": {},
   "outputs": [
    {
     "data": {
      "text/plain": [
       "75"
      ]
     },
     "execution_count": 11,
     "metadata": {},
     "output_type": "execute_result"
    }
   ],
   "source": [
    "max(L)"
   ]
  },
  {
   "cell_type": "code",
   "execution_count": 12,
   "id": "a4224ef1",
   "metadata": {},
   "outputs": [
    {
     "data": {
      "text/plain": [
       "-91"
      ]
     },
     "execution_count": 12,
     "metadata": {},
     "output_type": "execute_result"
    }
   ],
   "source": [
    "min(L)"
   ]
  },
  {
   "cell_type": "code",
   "execution_count": 21,
   "id": "35db7e46",
   "metadata": {
    "scrolled": true
   },
   "outputs": [
    {
     "name": "stdout",
     "output_type": "stream",
     "text": [
      "Максимум равен 75\n",
      "Минимум равен -91\n",
      "Сумма отрицательный элементов между максимальным и мнимальным равен -305\n"
     ]
    }
   ],
   "source": [
    "maxim = 0\n",
    "maxim_index = 0\n",
    "minim = L[0]\n",
    "minim_index = 0\n",
    "s = 0\n",
    "for i in range(len(L)):\n",
    "    if L[i]>maxim:\n",
    "        maxim = L[i]\n",
    "        maxim_index = i\n",
    "    if L[i]<minim:\n",
    "        minim = L[i]\n",
    "        minim_index = i\n",
    "        \n",
    "if minim_index<maxim_index:\n",
    "    for i in range(minim_index+1,maxim_index):\n",
    "        if L[i]<0:\n",
    "            s = s+L[i]\n",
    "else:\n",
    "    for i in range(maxim_index+1,minim_index):\n",
    "        if L[i]<0:\n",
    "            s= s+L[i]\n",
    "print(\"Максимум равен\",maxim)\n",
    "print(\"Минимум равен\",minim)\n",
    "print(\"Сумма отрицательный элементов между максимальным и мнимальным равен\", s)"
   ]
  },
  {
   "cell_type": "code",
   "execution_count": null,
   "id": "ccdadeb2",
   "metadata": {},
   "outputs": [],
   "source": []
  }
 ],
 "metadata": {
  "kernelspec": {
   "display_name": "Python 3 (ipykernel)",
   "language": "python",
   "name": "python3"
  },
  "language_info": {
   "codemirror_mode": {
    "name": "ipython",
    "version": 3
   },
   "file_extension": ".py",
   "mimetype": "text/x-python",
   "name": "python",
   "nbconvert_exporter": "python",
   "pygments_lexer": "ipython3",
   "version": "3.11.5"
  }
 },
 "nbformat": 4,
 "nbformat_minor": 5
}
